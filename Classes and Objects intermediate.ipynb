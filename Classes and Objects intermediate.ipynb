{
 "cells": [
  {
   "cell_type": "raw",
   "id": "0f530e1d",
   "metadata": {},
   "source": [
    "https://mybinder.org/v2/gh/jupyter-xeus/xeus-cling/092c31b6c1f7ddb91a6085117c4d9500cc19df11?filepath=notebooks%2FClasses%20and%20Objects%20intermedate.ipynb"
   ]
  },
  {
   "cell_type": "raw",
   "id": "e54f341f",
   "metadata": {},
   "source": [
    "https://mybinder.org/v2/gh/jupyter-xeus/xeus-cling/092c31b6c1f7ddb91a6085117c4d9500cc19df11?filepath=notebooks%2FClasses%20and%20Objects%20intermedate.ipynb"
   ]
  },
  {
   "cell_type": "raw",
   "id": "0fc9fb4b",
   "metadata": {},
   "source": [
    "https://mybinder.org/v2/gh/jupyter-xeus/xeus-cling/092c31b6c1f7ddb91a6085117c4d9500cc19df11?filepath=notebooks%2FClasses%20and%20Objects%20intermediate.ipynb"
   ]
  },
  {
   "cell_type": "code",
   "execution_count": 1,
   "id": "f9ec77ac",
   "metadata": {},
   "outputs": [],
   "source": [
    "// первый запуск блокнота с этими тремя строками, затем можно rem\n",
    "#include <iostream>\n",
    "#include <string>\n",
    "using namespace std;"
   ]
  },
  {
   "cell_type": "markdown",
   "id": "0df6f8c6",
   "metadata": {},
   "source": [
    "## Classes and Objects"
   ]
  },
  {
   "cell_type": "markdown",
   "id": "1dc1dab7",
   "metadata": {},
   "source": [
    "### What is an Object"
   ]
  },
  {
   "cell_type": "raw",
   "id": "ac30961b",
   "metadata": {},
   "source": [
    "Объект может содержать другие объекты, но это все же разные объекты. Объекты также имеют характеристики, которые используются для их описания. Например, автомобиль может быть красным или синим, кружка может быть полной или пустой и так далее. Эти \n",
    "характеристики также называются атрибутами. Атрибут описывает текущее состояние объекта. Объекты могут иметь несколько атрибутов (кружка может быть пустой, красной и большой). Состояние объекта не зависит от его типа; чашка может быть полна воды, другая может быть пуста. Итак, следующие три измерения описывают любой объект в объектно-ориентированном программировании: Identity (идентичность), attributes (атрибуты), behavior (поведение). В программировании объект является автономным, со своей собственной идентичностью. Он отделен от других объектов. У каждого объекта есть свои атрибуты, описывающие его текущее состояние. Каждый демонстрирует свое собственное поведение, которое демонстрирует, на что они способны. В вычислениях объекты не всегда представляют физические предметы. Например, программный объект может представлять дату, время, банковский счет. Банковский счет не является материальным; вы не можете его увидеть или потрогать, но это все еще четко определенный объект — у него есть собственная идентичность, атрибуты и поведение."
   ]
  },
  {
   "cell_type": "markdown",
   "id": "605168f8",
   "metadata": {},
   "source": [
    "### What is a Class"
   ]
  },
  {
   "cell_type": "raw",
   "id": "dcb9e2ee",
   "metadata": {},
   "source": [
    "Объекты создаются с помощью классов, которые фактически являются фокусом ООП. Класс описывает, каким будет объект, но отделен от самого объекта. Другими словами, класс может быть описан как схема, описание или определение объекта. Один и тот же класс можно использовать в качестве схемы элементов для создания нескольких различных объектов. Например, при подготовке к созданию нового здания архитектор создает чертеж, который используется в качестве основы для фактического строительства сооружения. Этот же чертеж можно использовать для создания нескольких зданий. Программирование работает таким же образом. Сначала мы определяем класс, который становится схемой для создания объектов. Каждый класс имеет имя и описывает атрибуты и поведение. В программировании термин type используется для обозначения имени класса: мы создаем объект определенного типа. Атрибуты также называются свойствами или данными."
   ]
  },
  {
   "cell_type": "markdown",
   "id": "1378bf2f",
   "metadata": {},
   "source": [
    "### Methods"
   ]
  },
  {
   "cell_type": "raw",
   "id": "d1bcb984",
   "metadata": {},
   "source": [
    "Метод — это еще один термин для обозначения поведения класса. Метод — это, по сути, функция, принадлежащая классу. Методы похожи на функции — это вызываемые блоки кода, которые также могут выполнять действия и возвращать значения."
   ]
  },
  {
   "cell_type": "markdown",
   "id": "559a2bcc",
   "metadata": {},
   "source": [
    "### A Class Example"
   ]
  },
  {
   "cell_type": "raw",
   "id": "9fd32d81",
   "metadata": {},
   "source": [
    "Например, если мы создаем банковскую программу, мы можем дать нашему классу следующие характеристики: имя: BankAccount атрибуты: accountNumber, balance, dateOpened Поведение: open(), close(), deposit() Класс указывает, что каждый объект должен иметь определенные атрибуты и поведение. Однако в нем не указывается, каковы фактические данные; Он дает только определение. После того, как мы написали класс, мы можем перейти к созданию объектов, основанных на этом классе. Каждый объект называется экземпляром класса. Процесс создания объектов называется instantiation (созданием экземпляров). Каждый объект имеет свою идентичность, данные и поведение. Определите все атрибуты и поведение (или члены) в теле класса в фигурных скобках.\n",
    "Вы также можете определить access specifier (спецификатор доступа) для членов класса."
   ]
  },
  {
   "cell_type": "markdown",
   "id": "858dd3ca",
   "metadata": {},
   "source": [
    "### Declaring a Class"
   ]
  },
  {
   "cell_type": "raw",
   "id": "d2cf85eb",
   "metadata": {},
   "source": [
    "Начните определение класса с ключевого слова class. За ключевым словом следует имя класса и тело класса, заключенное в фигурные скобки. За определением класса должна следовать точка с запятой. Следующий код объявляет класс с именем BankAccount:"
   ]
  },
  {
   "cell_type": "code",
   "execution_count": null,
   "id": "e759f0ef",
   "metadata": {},
   "outputs": [],
   "source": [
    "class BankAccount {\n",
    "\n",
    "};"
   ]
  },
  {
   "cell_type": "raw",
   "id": "36eccce3",
   "metadata": {},
   "source": [
    "Определите все attributes (атрибуты) и behavior (поведение) (или члены) в теле класса в фигурных скобках. Вы также можете определить access specifier (спецификатор доступа) для членов класса. К члену, который был определен с помощью ключевого слова public, можно получить доступ извне класса, если он находится в любом месте в пределах области действия объекта класса. Вы также можете обозначить членов класса как private (частные) или protected (защищенные). Это будет обсуждаться более подробно позже в курсе."
   ]
  },
  {
   "cell_type": "code",
   "execution_count": null,
   "id": "3172aa31",
   "metadata": {},
   "outputs": [],
   "source": [
    "//Давайте создадим класс с одним общедоступным методом, и пусть он выведет «Привет».\n",
    "class BankAccount {\n",
    "  public:\n",
    "    void sayHi() {\n",
    "      cout << \"Hi\" << endl;\n",
    "    }\n",
    "};"
   ]
  },
  {
   "cell_type": "code",
   "execution_count": null,
   "id": "a30b3dc2",
   "metadata": {},
   "outputs": [],
   "source": [
    "//Следующим шагом является создание экземпляра объекта нашего класса BankAccount \n",
    "//таким же образом, как мы определяем переменные типа, с той разницей, что тип нашего объекта будет BankAccount.\n",
    "int main() \n",
    "{\n",
    "  BankAccount test;\n",
    "  test.sayHi();\n",
    "}"
   ]
  },
  {
   "cell_type": "raw",
   "id": "748aba19",
   "metadata": {},
   "source": [
    "В нашем объекте с именем test определены все члены класса. Обратите внимание на dot separator (.) (точку разделитель), который используется для доступа и вызова метода объекта."
   ]
  },
  {
   "cell_type": "code",
   "execution_count": 2,
   "id": "d5446235",
   "metadata": {},
   "outputs": [
    {
     "name": "stdout",
     "output_type": "stream",
     "text": [
      "Hi\n"
     ]
    }
   ],
   "source": [
    "//#include <iostream>\n",
    "//using namespace std;\n",
    "\n",
    "class BankAccount {\n",
    "    public:\n",
    "        void sayHi() {\n",
    "            cout << \"Hi\" << endl;\n",
    "        }\n",
    "};\n",
    "\n",
    "//int main() \n",
    "//{\n",
    "    BankAccount test;\n",
    "    test.sayHi();\n",
    "//}"
   ]
  },
  {
   "cell_type": "markdown",
   "id": "e62a5e59",
   "metadata": {},
   "source": [
    "### Lesson Takeaways"
   ]
  },
  {
   "cell_type": "code",
   "execution_count": 3,
   "id": "ac411f56",
   "metadata": {},
   "outputs": [
    {
     "name": "stdout",
     "output_type": "stream",
     "text": [
      "chirp-chirp\n"
     ]
    },
    {
     "data": {
      "text/plain": [
       "0"
      ]
     },
     "execution_count": 3,
     "metadata": {},
     "output_type": "execute_result"
    }
   ],
   "source": [
    "//Выполнить заданную программу. \n",
    "//Определите класс Bird, который имеет один общедоступный метод makeSound().\n",
    "//Это печатает \"чирп-чирп\" при вызове.\n",
    "//Не забудьте добавить спецификатор доступа - ключевое слово public.\n",
    "//#include <iostream>\n",
    "//using namespace std;\n",
    "\n",
    "class Bird {\n",
    "    //complete the class, add makeSound() method\n",
    "    public:\n",
    "        void makeSound() {\n",
    "            cout << \"chirp-chirp\" << endl;\n",
    "        }\n",
    "};\n",
    "\n",
    "//int main() {\n",
    "    //instantiation\n",
    "    Bird bird;\n",
    "    //function call\n",
    "    bird.makeSound();\n",
    "    \n",
    "    return 0;\n",
    "//}"
   ]
  },
  {
   "cell_type": "markdown",
   "id": "112e611c",
   "metadata": {},
   "source": [
    "### Abstraction"
   ]
  },
  {
   "cell_type": "raw",
   "id": "bdb63550",
   "metadata": {},
   "source": [
    "Абстракция данных — это концепция предоставления внешней информации только необходимой. Это процесс представления основных функций без включения деталей реализации.\n",
    "\n",
    "Хорошим примером из реального мира является книга: когда вы слышите термин «книга», вы не знаете точной специфики, т.е. количества страниц, цвета, размера, но вы понимаете идею книги - абстракцию книги.\n",
    "Концепция abstraction заключается в том, что мы фокусируемся на существенных качествах, а не на конкретных характеристиках одного конкретного примера.\n",
    "Какое утверждение об абстракции верно?\n",
    "We can have a concept, but it's separate from any specific instance"
   ]
  },
  {
   "cell_type": "markdown",
   "id": "9baa03b6",
   "metadata": {},
   "source": [
    "### Encapsulation"
   ]
  },
  {
   "cell_type": "raw",
   "id": "a04a086f",
   "metadata": {},
   "source": [
    "Часть значения слова encapsulation «инкапсуляция» заключается в идее surrounding «окружения» сущности не только для того, чтобы сохранить то, что находится внутри, вместе, но и для того, чтобы защитить его.\n",
    "\n",
    "В объектной ориентации инкапсуляция означает нечто большее, чем просто объединение атрибутов и поведения в классе; Это также означает ограничение доступа к внутренней работе этого класса.\n",
    "\n",
    "Ключевой принцип здесь заключается в том, что объект показывает только то, что требуется другим компонентам приложения для эффективной работы приложения. Все остальное держится вне поля зрения.\n",
    "Это называется сокрытием данных.\n",
    "Encapsulation allows you to:Hide details of a class realization\n",
    "\n",
    "Например, если мы возьмем наш класс BankAccount, мы не хотим, чтобы какая-то другая часть нашей программы входила и изменяла баланс какого-либо объекта, не проходя через deposit() or withdraw() behaviors.\n",
    "Мы должны скрыть этот атрибут, контролировать доступ к нему, чтобы он был доступен только самому объекту.\n",
    "Таким образом, баланс не может быть напрямую изменен извне объекта и доступен только с помощью его методов.\n",
    "Это также известно как «черный ящик», который относится к закрытию внутренних рабочих зон объекта, за исключением частей, that we want to make public.\n",
    "\n",
    "Это позволяет нам изменять attributes and implementation of methods (атрибуты и реализацию методов), не изменяя общую программу. Например, мы можем вернуться позже и изменить тип данных атрибута баланса.\n",
    "\n",
    "Таким образом, преимущества инкапсуляции:\n",
    "- Контролируйте способ доступа к данным или их изменения.\n",
    "- Код более гибкий и легко изменяется с новыми требованиями.\n",
    "- Изменяйте одну часть кода, не затрагивая другую часть кода.\n",
    "\n",
    "The idea of encapsulation is (select two): To encapsulate an object's attributea and methods  To hide everything about the object, only exposing what in necessary"
   ]
  },
  {
   "cell_type": "markdown",
   "id": "fcc33b1b",
   "metadata": {},
   "source": [
    "### Example of Encapsulation\n"
   ]
  },
  {
   "cell_type": "markdown",
   "id": "9ebe1940",
   "metadata": {},
   "source": [
    "#### Access Specifiers "
   ]
  },
  {
   "cell_type": "raw",
   "id": "aeb1a5b7",
   "metadata": {},
   "source": [
    "Спецификаторы доступа используются для установки уровней доступа к определенным членам класса.\n",
    "Три уровня спецификаторов доступа: public, protected, and private (общедоступные, защищенные и частные).\n",
    "Открытый член доступен из-за пределов класса и в любом месте в пределах области действия объекта класса.\n",
    "Модификаторы доступа нужно объявлять только один раз; несколько членов могут следовать одному модификатору доступа. Обратите внимание на двоеточие (:), которое следует за ключевым словом public."
   ]
  },
  {
   "cell_type": "code",
   "execution_count": 2,
   "id": "ffba9959",
   "metadata": {},
   "outputs": [
    {
     "name": "stdout",
     "output_type": "stream",
     "text": [
      "SoloLearn"
     ]
    },
    {
     "data": {
      "text/plain": [
       "0"
      ]
     },
     "execution_count": 2,
     "metadata": {},
     "output_type": "execute_result"
    }
   ],
   "source": [
    "// Атрибут name является общедоступным; к нему можно получить доступ и изменить извне кода.\n",
    "//#include <iostream>\n",
    "//#include <string>\n",
    "using namespace std;\n",
    "\n",
    "class myClass {\n",
    "  public:\n",
    "    string name;\n",
    "};\n",
    "\n",
    "//int main() {\n",
    "  myClass myObj;\n",
    "  myObj.name = \"SoloLearn\";\n",
    "  cout << myObj.name;\n",
    "  return 0;\n",
    "//}"
   ]
  },
  {
   "cell_type": "code",
   "execution_count": 2,
   "id": "4ec5c02f",
   "metadata": {},
   "outputs": [
    {
     "data": {
      "text/plain": [
       "\"I love C++\""
      ]
     },
     "execution_count": 2,
     "metadata": {},
     "output_type": "execute_result"
    }
   ],
   "source": [
    "#include <iostream>\n",
    "#include <string>\n",
    "using namespace std;\n",
    "class MyClass {\n",
    "  public: \n",
    "     string myData;\n",
    "};\n",
    "//int main()\n",
    "// {\n",
    "MyClass obj;\n",
    "obj.myData = \"I love C++\";\n",
    "//}"
   ]
  },
  {
   "cell_type": "raw",
   "id": "e9035811",
   "metadata": {},
   "source": [
    "Мы можем добавить еще один общедоступный метод, чтобы получить значение атрибута.\n",
    "Метод getName() возвращает значение атрибута частного имени."
   ]
  },
  {
   "cell_type": "code",
   "execution_count": 5,
   "id": "3d59a206",
   "metadata": {},
   "outputs": [],
   "source": [
    "class myClass {\n",
    "  public:\n",
    "    void setName(string x) {\n",
    "      name = x;\n",
    "    }\n",
    "    string getName() {\n",
    "      return name;\n",
    "    }\n",
    "  private:\n",
    "    string name;\n",
    "};"
   ]
  },
  {
   "cell_type": "markdown",
   "id": "a85bf9a6",
   "metadata": {},
   "source": [
    "#### Private "
   ]
  },
  {
   "cell_type": "raw",
   "id": "9f7a3431",
   "metadata": {},
   "source": [
    "К private члену нельзя получить доступ или даже просмотреть его извне класса; к нему можно получить доступ только внутри класса. Public функция-член может использоваться для доступа к private членам. Например:\n",
    "Атрибут name является закрытым и недоступен извне. Публичный метод setName() используется для установки атрибута имени.\n",
    "Если access specifier (спецификатор доступа) не определен, все члены класса по умолчанию устанавливаются как закрытые."
   ]
  },
  {
   "cell_type": "code",
   "execution_count": 3,
   "id": "97f9a2d0",
   "metadata": {},
   "outputs": [
    {
     "data": {
      "text/plain": [
       "0"
      ]
     },
     "execution_count": 3,
     "metadata": {},
     "output_type": "execute_result"
    }
   ],
   "source": [
    "#include <iostream>\n",
    "#include <string>\n",
    "using namespace std;\n",
    "\n",
    "class myClass {\n",
    "  public:\n",
    "    void setName(string x) {\n",
    "      name = x;\n",
    "    }\n",
    "  private:\n",
    "    string name;\n",
    "};\n",
    "//int main() {\n",
    "  myClass myObj;\n",
    "  myObj.setName(\"John\");\n",
    "\n",
    "  return 0;\n",
    "//}"
   ]
  },
  {
   "cell_type": "code",
   "execution_count": 4,
   "id": "e4952592",
   "metadata": {},
   "outputs": [
    {
     "name": "stderr",
     "output_type": "stream",
     "text": [
      "input_line_12:2:10: error: 'MyClass' does not refer to a value\n",
      " cout << MyClass\n",
      "         ^\n",
      "input_line_10:1:7: note: declared here\n",
      "class MyClass {\n",
      "      ^\n"
     ]
    },
    {
     "ename": "Interpreter Error",
     "evalue": "",
     "output_type": "error",
     "traceback": [
      "Interpreter Error: "
     ]
    }
   ],
   "source": [
    "cout << MyClass"
   ]
  },
  {
   "cell_type": "code",
   "execution_count": 2,
   "id": "5340607d",
   "metadata": {},
   "outputs": [],
   "source": [
    "class MyClass {\n",
    "   private:\n",
    "      int myData;\n",
    "   public:\n",
    "      void setMyData(int arg) {  \n",
    "          myData = arg;\n",
    "      }\n",
    "};"
   ]
  },
  {
   "cell_type": "raw",
   "id": "e5c77fcf",
   "metadata": {},
   "source": [
    "Мы можем добавить еще один общедоступный метод, чтобы получить значение атрибута.\n",
    "Метод getName() возвращает значение атрибута частного имени."
   ]
  },
  {
   "cell_type": "code",
   "execution_count": 6,
   "id": "a6670887",
   "metadata": {},
   "outputs": [],
   "source": [
    "class myClass {\n",
    "  public:\n",
    "    void setName(string x) {\n",
    "      name = x;\n",
    "    }\n",
    "    string getName() {\n",
    "      return name;\n",
    "    }\n",
    "  private:\n",
    "    string name;\n",
    "};"
   ]
  },
  {
   "cell_type": "code",
   "execution_count": 5,
   "id": "0aaa12f8",
   "metadata": {},
   "outputs": [],
   "source": [
    "//Заполните пробелы, чтобы объявить метод получения для члена данных myData класса MyClass.\n",
    "//Метод get для myData — это общедоступная функция с именем getMyData(),\n",
    "//которая возвращает значение myData.\n",
    "class MyClass {\n",
    "   private:\n",
    "      int myData;\n",
    "   public:\n",
    "      int getMyData() {\n",
    "          return myData;\n",
    "      }\n",
    "};"
   ]
  },
  {
   "cell_type": "markdown",
   "id": "cd9017ce",
   "metadata": {},
   "source": [
    "#### Собираем все вместе:"
   ]
  },
  {
   "cell_type": "raw",
   "id": "00d524dd",
   "metadata": {},
   "source": [
    "Мы использовали инкапсуляцию, чтобы скрыть атрибут имени от внешнего кода. Затем мы предоставили доступ к нему с помощью публичных методов. Данные нашего класса могут быть прочитаны и изменены только с помощью этих методов.\n",
    "Это позволяет вносить изменения в реализацию методов и атрибутов, не затрагивая внешний код."
   ]
  },
  {
   "cell_type": "code",
   "execution_count": 8,
   "id": "e7bbdb07",
   "metadata": {},
   "outputs": [
    {
     "name": "stdout",
     "output_type": "stream",
     "text": [
      "John"
     ]
    },
    {
     "data": {
      "text/plain": [
       "0"
      ]
     },
     "execution_count": 8,
     "metadata": {},
     "output_type": "execute_result"
    }
   ],
   "source": [
    "#include <iostream>\n",
    "#include <string>\n",
    "using namespace std;\n",
    "\n",
    "class myClass {\n",
    "  public:\n",
    "    void setName(string x) {\n",
    "      name = x;\n",
    "    }\n",
    "    string getName() {\n",
    "      return name;\n",
    "    }\n",
    "  private:\n",
    "    string name;\n",
    "};\n",
    "\n",
    "//int main() {\n",
    "  myClass myObj;\n",
    "  myObj.setName(\"John\");\n",
    "  cout << myObj.getName();\n",
    "\n",
    "  return 0;\n",
    "//}"
   ]
  },
  {
   "cell_type": "markdown",
   "id": "19dbc917",
   "metadata": {},
   "source": [
    "### Lesson Takeaways"
   ]
  },
  {
   "cell_type": "code",
   "execution_count": 3,
   "id": "23cde97f",
   "metadata": {},
   "outputs": [
    {
     "name": "stdout",
     "output_type": "stream",
     "text": [
      "950\n",
      "Too much\n",
      "950"
     ]
    },
    {
     "data": {
      "text/plain": [
       "0"
      ]
     },
     "execution_count": 3,
     "metadata": {},
     "output_type": "execute_result"
    }
   ],
   "source": [
    "// Завершите данную программу, выполнив методы, чтобы установить и получить мощность объекта автомобиля,\n",
    "//чтобы вывести его.\n",
    "//Программа должна предупреждать «Too much», если введенная мощность превышает 800 лошадиных сил.\n",
    "//Вы должны использовать оператор if непосредственно внутри setter function (функции установки).\n",
    "#include <iostream>\n",
    "using namespace std;\n",
    "\n",
    "//class definition\n",
    "class Car{\n",
    "    \n",
    "    //private area\n",
    "    private:\n",
    "        int horsepowers;\n",
    "\n",
    "    //public area\n",
    "    public:\n",
    "        //complete the setter function\n",
    "        void setHorsepowers(int pow) {\n",
    "            horsepowers = pow;\n",
    "            if (horsepowers > 800) {\n",
    "                cout << \"Too much\\n\";\n",
    "            }\n",
    "        }\n",
    "    //complete the getter function\n",
    "        int getHorsepowers() {\n",
    "            return horsepowers;            \n",
    "        }     \n",
    "};\n",
    "\n",
    "\n",
    "//int main() {\n",
    "    //getting input\n",
    "    int horsepowers;\n",
    "    cin >> horsepowers;\n",
    "    //creating the object of class Car\n",
    "    Car car;\n",
    "    //setting the value for private member\n",
    "    car.setHorsepowers(horsepowers);\n",
    "    //printing the value of private member\n",
    "    cout << car.getHorsepowers();\n",
    "\n",
    "    return 0;\n",
    "//}\n"
   ]
  },
  {
   "cell_type": "markdown",
   "id": "2fbe7413",
   "metadata": {},
   "source": [
    "### Example of Encapsulation"
   ]
  },
  {
   "cell_type": "code",
   "execution_count": 1,
   "id": "3ca66d7c",
   "metadata": {},
   "outputs": [
    {
     "name": "stdout",
     "output_type": "stream",
     "text": [
      "14"
     ]
    },
    {
     "data": {
      "text/plain": [
       "@0x7f26f043db60"
      ]
     },
     "execution_count": 1,
     "metadata": {},
     "output_type": "execute_result"
    }
   ],
   "source": [
    "// Введите недостающие части, чтобы объявить объект MyClass, и установите значение его члена данных\n",
    "//равным 14, а затем выведите его значение на экран.\n",
    "// Выполните все указанные операции через публичные функции setMyData и getMyData.\n",
    "#include <iostream>\n",
    "#include <string>\n",
    "using namespace std;\n",
    "\n",
    "class MyClass {\n",
    "   private:\n",
    "      int myData;\n",
    "   public:\n",
    "      int getMyData() {\n",
    "          return myData;\n",
    "      };\n",
    "      void setMyData (int x){\n",
    "          myData = x;\n",
    "      }\n",
    "};\n",
    "//int main() {\n",
    " MyClass obj;\n",
    " obj.setMyData(14);\n",
    " cout << obj.getMyData()\n",
    "     //<< endl;\n",
    "//}"
   ]
  },
  {
   "cell_type": "code",
   "execution_count": null,
   "id": "b5eac925",
   "metadata": {},
   "outputs": [],
   "source": []
  }
 ],
 "metadata": {
  "kernelspec": {
   "display_name": "C++17",
   "language": "C++17",
   "name": "xcpp17"
  },
  "language_info": {
   "codemirror_mode": "text/x-c++src",
   "file_extension": ".cpp",
   "mimetype": "text/x-c++src",
   "name": "c++",
   "version": "17"
  }
 },
 "nbformat": 4,
 "nbformat_minor": 5
}
